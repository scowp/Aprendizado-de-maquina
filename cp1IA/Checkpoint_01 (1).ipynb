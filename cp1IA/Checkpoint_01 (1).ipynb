{
  "nbformat": 4,
  "nbformat_minor": 0,
  "metadata": {
    "colab": {
      "provenance": []
    },
    "kernelspec": {
      "name": "python3",
      "display_name": "Python 3"
    },
    "language_info": {
      "name": "python"
    }
  },
  "cells": [
    {
      "cell_type": "markdown",
      "source": [
        "# **Checkpoint 01 - Modelagem de Dados e Aprendizagem de Máquina**\n",
        "\n",
        "## **Objetivo**\n",
        "Avaliar conceitos sobre Modelagem de dados e Aprendizado de Máquina (ML) adquiridos no curso.\n",
        "\n",
        "## **Descrição do Desafio**\n",
        "Você foi contratado por uma empresa que desenvolveu uma plataforma de compra e venda de carros usados. O funcionamento é bem simples, os usuários cadastram o carro que querem vender e esperam que outro usuário os compre, a empresa então fica com uma parte do valor de venda. Seu papel é desenvolver um modelo que possa determinar qual o melhor preço de venda para um usado.\n",
        "\n",
        "Para nortear o desenvolvimento, você precisa de um ponto de partida e determinou uma pergunta chave: **Qual o preço de venda de um veículo Volkswagen Sedan 2.0 a gasolina, ano 2005, com cerca de 172095 km rodados?**\n",
        "\n",
        "### **Orientações**\n",
        "Para responder a essa pergunta, você deve utilizar o dataset da empresa, que está representado no arquivo **carros.csv**, e seguir o roteiro proposto neste desafio."
      ],
      "metadata": {
        "id": "j-bzGvV3uE1y"
      }
    },
    {
      "cell_type": "markdown",
      "source": [
        "## **Exploração de Dados - 2 pontos**\n",
        "\n",
        "1 - Carregue o dataset e faça a inspeção nas 15 primeiras linhas para identificação dos atributos. Quantos dados existem nesse dataset? Qual a quantidade de atributos? Existem valores faltantes? De que tipo são os dados? (1,0)"
      ],
      "metadata": {
        "id": "3sD4e4IY13Ux"
      }
    },
    {
      "cell_type": "code",
      "source": [
        "#Sua resposta aqui\n",
        "\n",
        "import pandas as pd\n",
        "import seaborn as sns\n",
        "import warnings\n",
        "warnings.filterwarnings('ignore')\n",
        "\n",
        "df = pd.read_csv(\"/content/carros.csv\") #carregar o csv\n",
        "dfn = df.dropna(axis=0)\n",
        "dfn.head(15)\n",
        "dfn.info()\n",
        "\n",
        "#Existem 32,200 dados no CSV\n",
        "#Há 8 atributos\n",
        "#Existem! Por isso, usei a função dropna com o atributo axis para fazer o tratamento e apagar as linhas com dados faltantes\n",
        "#float64(2), int64(2), object(5)"
      ],
      "metadata": {
        "id": "SsuvPzQQ5PAt",
        "colab": {
          "base_uri": "https://localhost:8080/"
        },
        "outputId": "791b613a-4ec1-4405-cff3-3e22f938533d"
      },
      "execution_count": 33,
      "outputs": [
        {
          "output_type": "stream",
          "name": "stdout",
          "text": [
            "<class 'pandas.core.frame.DataFrame'>\n",
            "Int64Index: 4025 entries, 0 to 4344\n",
            "Data columns (total 9 columns):\n",
            " #   Column        Non-Null Count  Dtype  \n",
            "---  ------        --------------  -----  \n",
            " 0   Brand         4025 non-null   object \n",
            " 1   Price         4025 non-null   float64\n",
            " 2   Body          4025 non-null   object \n",
            " 3   Mileage/1000  4025 non-null   int64  \n",
            " 4   EngineV       4025 non-null   float64\n",
            " 5   Engine Type   4025 non-null   object \n",
            " 6   Registration  4025 non-null   object \n",
            " 7   Year          4025 non-null   int64  \n",
            " 8   Model         4025 non-null   object \n",
            "dtypes: float64(2), int64(2), object(5)\n",
            "memory usage: 314.5+ KB\n"
          ]
        }
      ]
    },
    {
      "cell_type": "markdown",
      "source": [
        "2 - Note que os dataset está no sistema americano. Converta os dados para o sistema métrico e altere o cabeçalho de forma que os dados façam sentido. (1,0)\n",
        "\n",
        "Obs: Os dados de Milhas dividos por mil, ou seja, multiplique o valor por 1.000 para ter o valor real!"
      ],
      "metadata": {
        "id": "qXaP-3r05bSZ"
      }
    },
    {
      "cell_type": "code",
      "source": [
        "#Sua resposta aqui\n",
        "dfn['Km'] = (dfn['Mileage/1000']*1000) * 1.60934\n",
        "dfn = dfn.rename(columns={'Mileage/1000)': 'Km'})\n",
        "dfn = dfn.drop('Mileage/1000', axis=1)\n",
        "\n",
        "novo_cabecalho = ['Marca', 'Preço', 'Tipo', 'Cilindrada', 'Combustivel', 'Registrado', 'Ano', 'Modelo', 'Km' ]\n",
        "\n",
        "dfn.columns = novo_cabecalho\n",
        "dfn"
      ],
      "metadata": {
        "id": "FqWaPS5d7yk0",
        "colab": {
          "base_uri": "https://localhost:8080/",
          "height": 424
        },
        "outputId": "86cebcd5-d739-4886-ca03-7a48f2e29c6a"
      },
      "execution_count": 34,
      "outputs": [
        {
          "output_type": "execute_result",
          "data": {
            "text/plain": [
              "              Marca     Preço       Tipo  Cilindrada Combustivel Registrado  \\\n",
              "0               BMW    4200.0      sedan         2.0      Petrol        yes   \n",
              "1     Mercedes-Benz    7900.0        van         2.9      Diesel        yes   \n",
              "2     Mercedes-Benz   13300.0      sedan         5.0         Gas        yes   \n",
              "3              Audi   23000.0  crossover         4.2      Petrol        yes   \n",
              "4            Toyota   18300.0  crossover         2.0      Petrol        yes   \n",
              "...             ...       ...        ...         ...         ...        ...   \n",
              "4339         Toyota   17900.0      sedan         1.6      Petrol        yes   \n",
              "4340  Mercedes-Benz  125000.0      sedan         3.0      Diesel        yes   \n",
              "4341            BMW    6500.0      sedan         3.5      Petrol        yes   \n",
              "4342            BMW    8000.0      sedan         2.0      Petrol        yes   \n",
              "4344     Volkswagen   13500.0        van         2.0      Diesel        yes   \n",
              "\n",
              "       Ano             Modelo         Km  \n",
              "0     1991                320  445787.18  \n",
              "1     1999       Sprinter 212  687188.18  \n",
              "2     2003              S 500  576143.72  \n",
              "3     2007                 Q7  386241.60  \n",
              "4     2011              Rav 4  193120.80  \n",
              "...    ...                ...        ...  \n",
              "4339  2014            Corolla   56326.90  \n",
              "4340  2014              S 350   14484.06  \n",
              "4341  1999                535    1609.34  \n",
              "4342  1985                520  312211.96  \n",
              "4344  2013  T5 (Transporter)   199558.16  \n",
              "\n",
              "[4025 rows x 9 columns]"
            ],
            "text/html": [
              "\n",
              "  <div id=\"df-bd865f96-a63e-4c3c-b279-98b921b0264f\">\n",
              "    <div class=\"colab-df-container\">\n",
              "      <div>\n",
              "<style scoped>\n",
              "    .dataframe tbody tr th:only-of-type {\n",
              "        vertical-align: middle;\n",
              "    }\n",
              "\n",
              "    .dataframe tbody tr th {\n",
              "        vertical-align: top;\n",
              "    }\n",
              "\n",
              "    .dataframe thead th {\n",
              "        text-align: right;\n",
              "    }\n",
              "</style>\n",
              "<table border=\"1\" class=\"dataframe\">\n",
              "  <thead>\n",
              "    <tr style=\"text-align: right;\">\n",
              "      <th></th>\n",
              "      <th>Marca</th>\n",
              "      <th>Preço</th>\n",
              "      <th>Tipo</th>\n",
              "      <th>Cilindrada</th>\n",
              "      <th>Combustivel</th>\n",
              "      <th>Registrado</th>\n",
              "      <th>Ano</th>\n",
              "      <th>Modelo</th>\n",
              "      <th>Km</th>\n",
              "    </tr>\n",
              "  </thead>\n",
              "  <tbody>\n",
              "    <tr>\n",
              "      <th>0</th>\n",
              "      <td>BMW</td>\n",
              "      <td>4200.0</td>\n",
              "      <td>sedan</td>\n",
              "      <td>2.0</td>\n",
              "      <td>Petrol</td>\n",
              "      <td>yes</td>\n",
              "      <td>1991</td>\n",
              "      <td>320</td>\n",
              "      <td>445787.18</td>\n",
              "    </tr>\n",
              "    <tr>\n",
              "      <th>1</th>\n",
              "      <td>Mercedes-Benz</td>\n",
              "      <td>7900.0</td>\n",
              "      <td>van</td>\n",
              "      <td>2.9</td>\n",
              "      <td>Diesel</td>\n",
              "      <td>yes</td>\n",
              "      <td>1999</td>\n",
              "      <td>Sprinter 212</td>\n",
              "      <td>687188.18</td>\n",
              "    </tr>\n",
              "    <tr>\n",
              "      <th>2</th>\n",
              "      <td>Mercedes-Benz</td>\n",
              "      <td>13300.0</td>\n",
              "      <td>sedan</td>\n",
              "      <td>5.0</td>\n",
              "      <td>Gas</td>\n",
              "      <td>yes</td>\n",
              "      <td>2003</td>\n",
              "      <td>S 500</td>\n",
              "      <td>576143.72</td>\n",
              "    </tr>\n",
              "    <tr>\n",
              "      <th>3</th>\n",
              "      <td>Audi</td>\n",
              "      <td>23000.0</td>\n",
              "      <td>crossover</td>\n",
              "      <td>4.2</td>\n",
              "      <td>Petrol</td>\n",
              "      <td>yes</td>\n",
              "      <td>2007</td>\n",
              "      <td>Q7</td>\n",
              "      <td>386241.60</td>\n",
              "    </tr>\n",
              "    <tr>\n",
              "      <th>4</th>\n",
              "      <td>Toyota</td>\n",
              "      <td>18300.0</td>\n",
              "      <td>crossover</td>\n",
              "      <td>2.0</td>\n",
              "      <td>Petrol</td>\n",
              "      <td>yes</td>\n",
              "      <td>2011</td>\n",
              "      <td>Rav 4</td>\n",
              "      <td>193120.80</td>\n",
              "    </tr>\n",
              "    <tr>\n",
              "      <th>...</th>\n",
              "      <td>...</td>\n",
              "      <td>...</td>\n",
              "      <td>...</td>\n",
              "      <td>...</td>\n",
              "      <td>...</td>\n",
              "      <td>...</td>\n",
              "      <td>...</td>\n",
              "      <td>...</td>\n",
              "      <td>...</td>\n",
              "    </tr>\n",
              "    <tr>\n",
              "      <th>4339</th>\n",
              "      <td>Toyota</td>\n",
              "      <td>17900.0</td>\n",
              "      <td>sedan</td>\n",
              "      <td>1.6</td>\n",
              "      <td>Petrol</td>\n",
              "      <td>yes</td>\n",
              "      <td>2014</td>\n",
              "      <td>Corolla</td>\n",
              "      <td>56326.90</td>\n",
              "    </tr>\n",
              "    <tr>\n",
              "      <th>4340</th>\n",
              "      <td>Mercedes-Benz</td>\n",
              "      <td>125000.0</td>\n",
              "      <td>sedan</td>\n",
              "      <td>3.0</td>\n",
              "      <td>Diesel</td>\n",
              "      <td>yes</td>\n",
              "      <td>2014</td>\n",
              "      <td>S 350</td>\n",
              "      <td>14484.06</td>\n",
              "    </tr>\n",
              "    <tr>\n",
              "      <th>4341</th>\n",
              "      <td>BMW</td>\n",
              "      <td>6500.0</td>\n",
              "      <td>sedan</td>\n",
              "      <td>3.5</td>\n",
              "      <td>Petrol</td>\n",
              "      <td>yes</td>\n",
              "      <td>1999</td>\n",
              "      <td>535</td>\n",
              "      <td>1609.34</td>\n",
              "    </tr>\n",
              "    <tr>\n",
              "      <th>4342</th>\n",
              "      <td>BMW</td>\n",
              "      <td>8000.0</td>\n",
              "      <td>sedan</td>\n",
              "      <td>2.0</td>\n",
              "      <td>Petrol</td>\n",
              "      <td>yes</td>\n",
              "      <td>1985</td>\n",
              "      <td>520</td>\n",
              "      <td>312211.96</td>\n",
              "    </tr>\n",
              "    <tr>\n",
              "      <th>4344</th>\n",
              "      <td>Volkswagen</td>\n",
              "      <td>13500.0</td>\n",
              "      <td>van</td>\n",
              "      <td>2.0</td>\n",
              "      <td>Diesel</td>\n",
              "      <td>yes</td>\n",
              "      <td>2013</td>\n",
              "      <td>T5 (Transporter)</td>\n",
              "      <td>199558.16</td>\n",
              "    </tr>\n",
              "  </tbody>\n",
              "</table>\n",
              "<p>4025 rows × 9 columns</p>\n",
              "</div>\n",
              "      <button class=\"colab-df-convert\" onclick=\"convertToInteractive('df-bd865f96-a63e-4c3c-b279-98b921b0264f')\"\n",
              "              title=\"Convert this dataframe to an interactive table.\"\n",
              "              style=\"display:none;\">\n",
              "        \n",
              "  <svg xmlns=\"http://www.w3.org/2000/svg\" height=\"24px\"viewBox=\"0 0 24 24\"\n",
              "       width=\"24px\">\n",
              "    <path d=\"M0 0h24v24H0V0z\" fill=\"none\"/>\n",
              "    <path d=\"M18.56 5.44l.94 2.06.94-2.06 2.06-.94-2.06-.94-.94-2.06-.94 2.06-2.06.94zm-11 1L8.5 8.5l.94-2.06 2.06-.94-2.06-.94L8.5 2.5l-.94 2.06-2.06.94zm10 10l.94 2.06.94-2.06 2.06-.94-2.06-.94-.94-2.06-.94 2.06-2.06.94z\"/><path d=\"M17.41 7.96l-1.37-1.37c-.4-.4-.92-.59-1.43-.59-.52 0-1.04.2-1.43.59L10.3 9.45l-7.72 7.72c-.78.78-.78 2.05 0 2.83L4 21.41c.39.39.9.59 1.41.59.51 0 1.02-.2 1.41-.59l7.78-7.78 2.81-2.81c.8-.78.8-2.07 0-2.86zM5.41 20L4 18.59l7.72-7.72 1.47 1.35L5.41 20z\"/>\n",
              "  </svg>\n",
              "      </button>\n",
              "      \n",
              "  <style>\n",
              "    .colab-df-container {\n",
              "      display:flex;\n",
              "      flex-wrap:wrap;\n",
              "      gap: 12px;\n",
              "    }\n",
              "\n",
              "    .colab-df-convert {\n",
              "      background-color: #E8F0FE;\n",
              "      border: none;\n",
              "      border-radius: 50%;\n",
              "      cursor: pointer;\n",
              "      display: none;\n",
              "      fill: #1967D2;\n",
              "      height: 32px;\n",
              "      padding: 0 0 0 0;\n",
              "      width: 32px;\n",
              "    }\n",
              "\n",
              "    .colab-df-convert:hover {\n",
              "      background-color: #E2EBFA;\n",
              "      box-shadow: 0px 1px 2px rgba(60, 64, 67, 0.3), 0px 1px 3px 1px rgba(60, 64, 67, 0.15);\n",
              "      fill: #174EA6;\n",
              "    }\n",
              "\n",
              "    [theme=dark] .colab-df-convert {\n",
              "      background-color: #3B4455;\n",
              "      fill: #D2E3FC;\n",
              "    }\n",
              "\n",
              "    [theme=dark] .colab-df-convert:hover {\n",
              "      background-color: #434B5C;\n",
              "      box-shadow: 0px 1px 3px 1px rgba(0, 0, 0, 0.15);\n",
              "      filter: drop-shadow(0px 1px 2px rgba(0, 0, 0, 0.3));\n",
              "      fill: #FFFFFF;\n",
              "    }\n",
              "  </style>\n",
              "\n",
              "      <script>\n",
              "        const buttonEl =\n",
              "          document.querySelector('#df-bd865f96-a63e-4c3c-b279-98b921b0264f button.colab-df-convert');\n",
              "        buttonEl.style.display =\n",
              "          google.colab.kernel.accessAllowed ? 'block' : 'none';\n",
              "\n",
              "        async function convertToInteractive(key) {\n",
              "          const element = document.querySelector('#df-bd865f96-a63e-4c3c-b279-98b921b0264f');\n",
              "          const dataTable =\n",
              "            await google.colab.kernel.invokeFunction('convertToInteractive',\n",
              "                                                     [key], {});\n",
              "          if (!dataTable) return;\n",
              "\n",
              "          const docLinkHtml = 'Like what you see? Visit the ' +\n",
              "            '<a target=\"_blank\" href=https://colab.research.google.com/notebooks/data_table.ipynb>data table notebook</a>'\n",
              "            + ' to learn more about interactive tables.';\n",
              "          element.innerHTML = '';\n",
              "          dataTable['output_type'] = 'display_data';\n",
              "          await google.colab.output.renderOutput(dataTable, element);\n",
              "          const docLink = document.createElement('div');\n",
              "          docLink.innerHTML = docLinkHtml;\n",
              "          element.appendChild(docLink);\n",
              "        }\n",
              "      </script>\n",
              "    </div>\n",
              "  </div>\n",
              "  "
            ]
          },
          "metadata": {},
          "execution_count": 34
        }
      ]
    },
    {
      "cell_type": "markdown",
      "source": [
        "## **Analise descritiva dos dados - 2 pontos**\n",
        "\n",
        "3 - Faça uma análise exploratória dos dados, utilizando gráficos e tabelas para realizar correlações entre os atributos e que permitam criar um cenário de correlação entre eles."
      ],
      "metadata": {
        "id": "JkvVJsjg5kTq"
      }
    },
    {
      "cell_type": "code",
      "source": [
        "#Sua resposta aqui\n",
        "import matplotlib.pyplot as plt\n",
        "corr = dfn.corr()\n",
        "\n",
        "\n",
        "sns.heatmap(corr, annot=True, cmap='coolwarm')\n",
        "\n",
        "dfn.describe()\n",
        "\n",
        "\n",
        "# Mostrando relação de Ano - Preço\n",
        "# plt.scatter(dfn['Year'], dfn['Price'])\n",
        "# plt.xlabel('Year')\n",
        "# plt.ylabel('Price')\n",
        "# plt.show()"
      ],
      "metadata": {
        "id": "ENdW7hn56FFp",
        "colab": {
          "base_uri": "https://localhost:8080/",
          "height": 552
        },
        "outputId": "984c6e1f-3040-4f07-a66e-f74cf135d98e"
      },
      "execution_count": 17,
      "outputs": [
        {
          "output_type": "execute_result",
          "data": {
            "text/plain": [
              "               Preço   Cilindrada          Ano            Km\n",
              "count    4025.000000  4025.000000  4025.000000  4.025000e+03\n",
              "mean    19552.308065     2.764586  2006.379627  2.632432e+05\n",
              "std     25815.734988     4.935941     6.695595  1.663972e+05\n",
              "min       600.000000     0.600000  1969.000000  0.000000e+00\n",
              "25%      6999.000000     1.800000  2003.000000  1.448406e+05\n",
              "50%     11500.000000     2.200000  2007.000000  2.542757e+05\n",
              "75%     21900.000000     3.000000  2012.000000  3.701482e+05\n",
              "max    300000.000000    99.990000  2016.000000  1.577153e+06"
            ],
            "text/html": [
              "\n",
              "  <div id=\"df-7f5e8e60-d911-432b-8adb-2fc5766cb83a\">\n",
              "    <div class=\"colab-df-container\">\n",
              "      <div>\n",
              "<style scoped>\n",
              "    .dataframe tbody tr th:only-of-type {\n",
              "        vertical-align: middle;\n",
              "    }\n",
              "\n",
              "    .dataframe tbody tr th {\n",
              "        vertical-align: top;\n",
              "    }\n",
              "\n",
              "    .dataframe thead th {\n",
              "        text-align: right;\n",
              "    }\n",
              "</style>\n",
              "<table border=\"1\" class=\"dataframe\">\n",
              "  <thead>\n",
              "    <tr style=\"text-align: right;\">\n",
              "      <th></th>\n",
              "      <th>Preço</th>\n",
              "      <th>Cilindrada</th>\n",
              "      <th>Ano</th>\n",
              "      <th>Km</th>\n",
              "    </tr>\n",
              "  </thead>\n",
              "  <tbody>\n",
              "    <tr>\n",
              "      <th>count</th>\n",
              "      <td>4025.000000</td>\n",
              "      <td>4025.000000</td>\n",
              "      <td>4025.000000</td>\n",
              "      <td>4.025000e+03</td>\n",
              "    </tr>\n",
              "    <tr>\n",
              "      <th>mean</th>\n",
              "      <td>19552.308065</td>\n",
              "      <td>2.764586</td>\n",
              "      <td>2006.379627</td>\n",
              "      <td>2.632432e+05</td>\n",
              "    </tr>\n",
              "    <tr>\n",
              "      <th>std</th>\n",
              "      <td>25815.734988</td>\n",
              "      <td>4.935941</td>\n",
              "      <td>6.695595</td>\n",
              "      <td>1.663972e+05</td>\n",
              "    </tr>\n",
              "    <tr>\n",
              "      <th>min</th>\n",
              "      <td>600.000000</td>\n",
              "      <td>0.600000</td>\n",
              "      <td>1969.000000</td>\n",
              "      <td>0.000000e+00</td>\n",
              "    </tr>\n",
              "    <tr>\n",
              "      <th>25%</th>\n",
              "      <td>6999.000000</td>\n",
              "      <td>1.800000</td>\n",
              "      <td>2003.000000</td>\n",
              "      <td>1.448406e+05</td>\n",
              "    </tr>\n",
              "    <tr>\n",
              "      <th>50%</th>\n",
              "      <td>11500.000000</td>\n",
              "      <td>2.200000</td>\n",
              "      <td>2007.000000</td>\n",
              "      <td>2.542757e+05</td>\n",
              "    </tr>\n",
              "    <tr>\n",
              "      <th>75%</th>\n",
              "      <td>21900.000000</td>\n",
              "      <td>3.000000</td>\n",
              "      <td>2012.000000</td>\n",
              "      <td>3.701482e+05</td>\n",
              "    </tr>\n",
              "    <tr>\n",
              "      <th>max</th>\n",
              "      <td>300000.000000</td>\n",
              "      <td>99.990000</td>\n",
              "      <td>2016.000000</td>\n",
              "      <td>1.577153e+06</td>\n",
              "    </tr>\n",
              "  </tbody>\n",
              "</table>\n",
              "</div>\n",
              "      <button class=\"colab-df-convert\" onclick=\"convertToInteractive('df-7f5e8e60-d911-432b-8adb-2fc5766cb83a')\"\n",
              "              title=\"Convert this dataframe to an interactive table.\"\n",
              "              style=\"display:none;\">\n",
              "        \n",
              "  <svg xmlns=\"http://www.w3.org/2000/svg\" height=\"24px\"viewBox=\"0 0 24 24\"\n",
              "       width=\"24px\">\n",
              "    <path d=\"M0 0h24v24H0V0z\" fill=\"none\"/>\n",
              "    <path d=\"M18.56 5.44l.94 2.06.94-2.06 2.06-.94-2.06-.94-.94-2.06-.94 2.06-2.06.94zm-11 1L8.5 8.5l.94-2.06 2.06-.94-2.06-.94L8.5 2.5l-.94 2.06-2.06.94zm10 10l.94 2.06.94-2.06 2.06-.94-2.06-.94-.94-2.06-.94 2.06-2.06.94z\"/><path d=\"M17.41 7.96l-1.37-1.37c-.4-.4-.92-.59-1.43-.59-.52 0-1.04.2-1.43.59L10.3 9.45l-7.72 7.72c-.78.78-.78 2.05 0 2.83L4 21.41c.39.39.9.59 1.41.59.51 0 1.02-.2 1.41-.59l7.78-7.78 2.81-2.81c.8-.78.8-2.07 0-2.86zM5.41 20L4 18.59l7.72-7.72 1.47 1.35L5.41 20z\"/>\n",
              "  </svg>\n",
              "      </button>\n",
              "      \n",
              "  <style>\n",
              "    .colab-df-container {\n",
              "      display:flex;\n",
              "      flex-wrap:wrap;\n",
              "      gap: 12px;\n",
              "    }\n",
              "\n",
              "    .colab-df-convert {\n",
              "      background-color: #E8F0FE;\n",
              "      border: none;\n",
              "      border-radius: 50%;\n",
              "      cursor: pointer;\n",
              "      display: none;\n",
              "      fill: #1967D2;\n",
              "      height: 32px;\n",
              "      padding: 0 0 0 0;\n",
              "      width: 32px;\n",
              "    }\n",
              "\n",
              "    .colab-df-convert:hover {\n",
              "      background-color: #E2EBFA;\n",
              "      box-shadow: 0px 1px 2px rgba(60, 64, 67, 0.3), 0px 1px 3px 1px rgba(60, 64, 67, 0.15);\n",
              "      fill: #174EA6;\n",
              "    }\n",
              "\n",
              "    [theme=dark] .colab-df-convert {\n",
              "      background-color: #3B4455;\n",
              "      fill: #D2E3FC;\n",
              "    }\n",
              "\n",
              "    [theme=dark] .colab-df-convert:hover {\n",
              "      background-color: #434B5C;\n",
              "      box-shadow: 0px 1px 3px 1px rgba(0, 0, 0, 0.15);\n",
              "      filter: drop-shadow(0px 1px 2px rgba(0, 0, 0, 0.3));\n",
              "      fill: #FFFFFF;\n",
              "    }\n",
              "  </style>\n",
              "\n",
              "      <script>\n",
              "        const buttonEl =\n",
              "          document.querySelector('#df-7f5e8e60-d911-432b-8adb-2fc5766cb83a button.colab-df-convert');\n",
              "        buttonEl.style.display =\n",
              "          google.colab.kernel.accessAllowed ? 'block' : 'none';\n",
              "\n",
              "        async function convertToInteractive(key) {\n",
              "          const element = document.querySelector('#df-7f5e8e60-d911-432b-8adb-2fc5766cb83a');\n",
              "          const dataTable =\n",
              "            await google.colab.kernel.invokeFunction('convertToInteractive',\n",
              "                                                     [key], {});\n",
              "          if (!dataTable) return;\n",
              "\n",
              "          const docLinkHtml = 'Like what you see? Visit the ' +\n",
              "            '<a target=\"_blank\" href=https://colab.research.google.com/notebooks/data_table.ipynb>data table notebook</a>'\n",
              "            + ' to learn more about interactive tables.';\n",
              "          element.innerHTML = '';\n",
              "          dataTable['output_type'] = 'display_data';\n",
              "          await google.colab.output.renderOutput(dataTable, element);\n",
              "          const docLink = document.createElement('div');\n",
              "          docLink.innerHTML = docLinkHtml;\n",
              "          element.appendChild(docLink);\n",
              "        }\n",
              "      </script>\n",
              "    </div>\n",
              "  </div>\n",
              "  "
            ]
          },
          "metadata": {},
          "execution_count": 17
        },
        {
          "output_type": "display_data",
          "data": {
            "text/plain": [
              "<Figure size 432x288 with 2 Axes>"
            ],
            "image/png": "[encoded data removed]"
          },
          "metadata": {
            "needs_background": "light"
          }
        }
      ]
    },
    {
      "cell_type": "markdown",
      "source": [
        "## **Desenvolvimento do Modelo - 2 pontos**\n",
        "\n",
        "4 - O conjunto de dados indica a aplicação de qual modelo de aprendizagem de máquina para responder a pergunta do desafio? Por quê? (1,0)"
      ],
      "metadata": {
        "id": "O_m8RaIs6KIz"
      }
    },
    {
      "cell_type": "markdown",
      "source": [
        "Resposta: Regressão, pois a saída esperada é um valor númerico, no caso, o valor de carros."
      ],
      "metadata": {
        "id": "nWTzZl2K6kY_"
      }
    },
    {
      "cell_type": "markdown",
      "source": [
        "5 - Qual a técnica sugerida para este projeto? Por quê? (1,0)"
      ],
      "metadata": {
        "id": "uUkBz0pu6nLk"
      }
    },
    {
      "cell_type": "markdown",
      "source": [
        "Resposta: Entender quais atributos estão mais relacionados com o valor do carro, pois eles podem auxiliar na predição, já que possivelmente terão relação com o preço. No caso, pelo que analisei, o atributo em que mais se relaciona com o valor do carro seria o ano de fabricação conforme visto no exemplo a cima."
      ],
      "metadata": {
        "id": "2V2a4DRv6xg_"
      }
    },
    {
      "cell_type": "markdown",
      "source": [
        "Com base nas suas respostas, agora escolha dois algortimos para implementar e comparar a performance de cada um deles ao final do desafio."
      ],
      "metadata": {
        "id": "wxJjN_cO7XbH"
      }
    },
    {
      "cell_type": "markdown",
      "source": [
        "Resposta:\n",
        "\n",
        "Algoritmo 1: Regressão linear simples\n",
        "\n",
        "Algoritmo 2: RandomForestRegressor"
      ],
      "metadata": {
        "id": "N6tmcuJk7fn4"
      }
    },
    {
      "cell_type": "markdown",
      "source": [
        "## **Treinamento e teste do Modelo - 3 pontos**\n",
        "\n",
        "6 - Crie um subset dos dados que serão utilizados para o treinamento e para o teste do modelo. Divida este subset em treino e teste. (1,0) "
      ],
      "metadata": {
        "id": "H9gsbQvj6y_m"
      }
    },
    {
      "cell_type": "code",
      "source": [
        "from sklearn.model_selection import train_test_split\n",
        "\n",
        "X = dfn[['Ano']]\n",
        "y = dfn[['Preço']]\n",
        "\n",
        "X_train, X_test, y_train, y_test = train_test_split(X, y, test_size=0.2, random_state=42)\n",
        "  "
      ],
      "metadata": {
        "id": "WW17xlyN78B8"
      },
      "execution_count": 18,
      "outputs": []
    },
    {
      "cell_type": "markdown",
      "source": [
        "7 - Faça o treinamento e teste dos 2 algoritmos escolhidos. Utilize uma métrica (ex. R2-score, RMSE e MAE...) para avaliar a performance dos modelos."
      ],
      "metadata": {
        "id": "QpDpVyWw7-Au"
      }
    },
    {
      "cell_type": "markdown",
      "source": [
        "7.1 - Algoritmo 1: (0,5)\n"
      ],
      "metadata": {
        "id": "Ft06krzb8RAV"
      }
    },
    {
      "cell_type": "code",
      "source": [
        "#Sua resposta aqui\n",
        "from sklearn.linear_model import LinearRegression\n",
        "from sklearn.metrics import mean_absolute_error, mean_absolute_percentage_error, mean_squared_error, r2_score\n",
        "import numpy as np\n",
        "\n",
        "lr = LinearRegression()\n",
        "lr.fit(X_train, y_train)\n",
        "y_pred = lr.predict(X_test)\n",
        "\n",
        "print('r2: ' + str(r2_score(y_test, y_pred)))\n",
        "print('RMSE: ' + str(np.sqrt(mean_absolute_error(y_test, y_pred))))   "
      ],
      "metadata": {
        "id": "vf4QB14J8Usb",
        "colab": {
          "base_uri": "https://localhost:8080/"
        },
        "outputId": "71bf2a53-fce6-49bb-dde2-fc5949948a43"
      },
      "execution_count": 19,
      "outputs": [
        {
          "output_type": "stream",
          "name": "stdout",
          "text": [
            "r2: 0.2545843656393343\n",
            "RMSE: 111.50177249468928\n"
          ]
        }
      ]
    },
    {
      "cell_type": "markdown",
      "source": [
        "7.2 - Algoritmo 2:  (0,5)"
      ],
      "metadata": {
        "id": "S8MKlSSM8dz5"
      }
    },
    {
      "cell_type": "code",
      "source": [
        "#Sua resposta aqui\n",
        "from sklearn.ensemble import RandomForestRegressor\n",
        "\n",
        "rf = RandomForestRegressor(n_estimators=50)\n",
        "rf.fit(X_train, y_train)\n",
        "y_pred = rf.predict(X_test)\n",
        "\n",
        "print('r2: ' + str(r2_score(y_test, y_pred)))\n",
        "print('RMSE: ' + str(np.sqrt(mean_absolute_error(y_test, y_pred))))"
      ],
      "metadata": {
        "id": "6kM92epO8gas",
        "colab": {
          "base_uri": "https://localhost:8080/"
        },
        "outputId": "51202a8d-8cbf-462f-b73a-2b0c24ff8b71"
      },
      "execution_count": 22,
      "outputs": [
        {
          "output_type": "stream",
          "name": "stdout",
          "text": [
            "r2: 0.4934137124618504\n",
            "RMSE: 98.01222561593407\n"
          ]
        }
      ]
    },
    {
      "cell_type": "markdown",
      "source": [
        "7.3 - Qual dos algortimos obteve melhor resultado? Por quê? (1,0)"
      ],
      "metadata": {
        "id": "rBJqsqIB84E_"
      }
    },
    {
      "cell_type": "markdown",
      "source": [
        "Resposta: o Algoritmo 2, pois ele obteve melhor score."
      ],
      "metadata": {
        "id": "cnGh51RS8_we"
      }
    },
    {
      "cell_type": "markdown",
      "source": [
        "## **Modelo de Produção: Teste com novos dados - 1 ponto**\n",
        "\n",
        "8 - Use o seu modelo treinado para responder a pergunta do desafio:"
      ],
      "metadata": {
        "id": "YpNVMhSw9Fe7"
      }
    },
    {
      "cell_type": "code",
      "source": [
        "#Sua resposta aqui\n",
        "np.random.seed(42)\n",
        "prediction = rf.predict([[2005]])\n",
        "prediction\n",
        "\n",
        "# R$10.342,08"
      ],
      "metadata": {
        "id": "zCssWHNU9R8P",
        "colab": {
          "base_uri": "https://localhost:8080/"
        },
        "outputId": "8bb43e8f-5f12-4105-d452-e2750ccc2380"
      },
      "execution_count": 25,
      "outputs": [
        {
          "output_type": "execute_result",
          "data": {
            "text/plain": [
              "array([10342.08638092])"
            ]
          },
          "metadata": {},
          "execution_count": 25
        }
      ]
    }
  ]
}